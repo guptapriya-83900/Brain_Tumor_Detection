{
 "cells": [
  {
   "cell_type": "code",
   "execution_count": 1,
   "metadata": {},
   "outputs": [],
   "source": [
    "import os"
   ]
  },
  {
   "cell_type": "code",
   "execution_count": 2,
   "metadata": {},
   "outputs": [
    {
     "data": {
      "text/plain": [
       "'c:\\\\Users\\\\gupta\\\\Documents\\\\GitHub\\\\Brain_Tumor_Detection\\\\research'"
      ]
     },
     "execution_count": 2,
     "metadata": {},
     "output_type": "execute_result"
    }
   ],
   "source": [
    "%pwd"
   ]
  },
  {
   "cell_type": "code",
   "execution_count": 3,
   "metadata": {},
   "outputs": [],
   "source": [
    "os.chdir(\"../\")"
   ]
  },
  {
   "cell_type": "code",
   "execution_count": 4,
   "metadata": {},
   "outputs": [
    {
     "data": {
      "text/plain": [
       "'c:\\\\Users\\\\gupta\\\\Documents\\\\GitHub\\\\Brain_Tumor_Detection'"
      ]
     },
     "execution_count": 4,
     "metadata": {},
     "output_type": "execute_result"
    }
   ],
   "source": [
    "%pwd"
   ]
  },
  {
   "cell_type": "markdown",
   "metadata": {},
   "source": [
    "This script is designed to handle the data ingestion process, which involves downloading a ZIP file from a URL, saving it locally, and then extracting its contents to a specified directory"
   ]
  },
  {
   "cell_type": "code",
   "execution_count": 5,
   "metadata": {},
   "outputs": [],
   "source": [
    "'''\n",
    "@dataclass(frozen=True): This decorator creates an immutable class where instances are read-only once created.\n",
    "DataIngestionConfig: This class holds the configuration needed for data ingestion. It stores:\n",
    "root_dir: The root directory for storing data.\n",
    "source_URL: The URL from which data will be downloaded.\n",
    "local_data_file: The path where the downloaded file will be saved.\n",
    "unzip_dir: The directory where the extracted files will be stored.\n",
    "\n",
    "'''\n",
    "\n",
    "#For Modular code: Copy this part in config_entity.py file present in entity folder\n",
    "from dataclasses import dataclass\n",
    "from pathlib import Path\n",
    "\n",
    "@dataclass(frozen=True)\n",
    "class DataIngestionConfig:\n",
    "    root_dir: Path\n",
    "    source_URL: str\n",
    "    local_data_file: Path\n",
    "    unzip_dir: Path"
   ]
  },
  {
   "cell_type": "code",
   "execution_count": 6,
   "metadata": {},
   "outputs": [],
   "source": [
    "#For Modular code: Copy this part in configuration.py file present in config folder\n",
    "from CNN_Classifier.constants import *\n",
    "from CNN_Classifier.utils.common import read_yaml, create_directories"
   ]
  },
  {
   "cell_type": "code",
   "execution_count": 7,
   "metadata": {},
   "outputs": [],
   "source": [
    "'''\n",
    "config_filepath = CONFIG_FILE_PATH, params_filepath = PARAMS_FILE_PATH : This line is for getting the file path for both yaml files\n",
    "self.config = read_yaml(config_filepath): This part reads the yaml file returns the content of the file in the form of ConfigBox. \n",
    "create_directories([self.config.artifacts_root]): As from above we got contents of the yaml file in the type of ConfigBox and not dictionary\n",
    "                                                  and saved it in the variable \"self.config\" so now we can access anything in the file using\n",
    "                                                  the \"key\" only no need for indices. So here we get value of key: artificats_root and create \n",
    "                                                  directory whose name is that  value\"\n",
    "\n",
    "\n",
    "'''\n",
    "#For Modular code: Copy this part in configuration.py file present in config folder\n",
    "#Update the entity\n",
    "#This class manages configurations by reading them from YAML files.\n",
    "class ConfigurationManager:\n",
    "    def __init__(\n",
    "        self,\n",
    "        config_filepath = CONFIG_FILE_PATH,         \n",
    "        params_filepath = PARAMS_FILE_PATH):\n",
    "\n",
    "        self.config = read_yaml(config_filepath)\n",
    "        self.params = read_yaml(params_filepath)\n",
    "\n",
    "        create_directories([self.config.artifacts_root])\n",
    "\n",
    "\n",
    "    #This method extracts the data ingestion-related configuration from the YAML file.\n",
    "    def get_data_ingestion_config(self) -> DataIngestionConfig:   #This is for getting the all the configuration related to our data \n",
    "        config = self.config.data_ingestion\n",
    "\n",
    "        create_directories([config.root_dir])\n",
    "\n",
    "        data_ingestion_config = DataIngestionConfig(\n",
    "            root_dir=config.root_dir,                                     #For storing all the values in the variable\n",
    "            source_URL=config.source_URL,\n",
    "            local_data_file=config.local_data_file,\n",
    "            unzip_dir=config.unzip_dir \n",
    "        )\n",
    "\n",
    "        return data_ingestion_config"
   ]
  },
  {
   "cell_type": "code",
   "execution_count": 8,
   "metadata": {},
   "outputs": [],
   "source": [
    "#For Modular code: Copy this part in data_ingestion.py file created in components folder\n",
    "import os\n",
    "import urllib.request as request\n",
    "import zipfile\n",
    "from src.CNN_Classifier.logger import logging\n",
    "from CNN_Classifier.utils.common import get_size"
   ]
  },
  {
   "cell_type": "code",
   "execution_count": 9,
   "metadata": {},
   "outputs": [],
   "source": [
    "#For Modular code: Copy this part in data_ingestion.py file created in components folder\n",
    "#Update the Components\n",
    "class DataIngestion:\n",
    "    def __init__(self, config: DataIngestionConfig):\n",
    "        self.config = config\n",
    "\n",
    "\n",
    "    \n",
    "    def download_file(self):\n",
    "        if not os.path.exists(self.config.local_data_file):\n",
    "            filename, headers = request.urlretrieve(\n",
    "                url = self.config.source_URL,\n",
    "                filename = self.config.local_data_file\n",
    "            )\n",
    "            logging.info(f\"{filename} download! with following info: \\n{headers}\")\n",
    "        else:\n",
    "            logging.info(f\"File already exists of size: {get_size(Path(self.config.local_data_file))}\")  \n",
    "\n",
    "\n",
    "    \n",
    "    def extract_zip_file(self):\n",
    "        \"\"\"\n",
    "        zip_file_path: str\n",
    "        Extracts the zip file into the data directory\n",
    "        Function returns None\n",
    "        \"\"\"\n",
    "        unzip_path = self.config.unzip_dir\n",
    "        os.makedirs(unzip_path, exist_ok=True)\n",
    "        with zipfile.ZipFile(self.config.local_data_file, 'r') as zip_ref:\n",
    "            zip_ref.extractall(unzip_path)\n",
    "\n"
   ]
  },
  {
   "cell_type": "code",
   "execution_count": 10,
   "metadata": {},
   "outputs": [
    {
     "name": "stdout",
     "output_type": "stream",
     "text": [
      "[2024-09-03 14:53:51,435: INFO: common: yaml file: config\\config.yaml loaded successfully]\n",
      "[2024-09-03 14:53:51,452: INFO: common: yaml file: params.yaml loaded successfully]\n",
      "[2024-09-03 14:53:51,457: INFO: common: created directory at: artifacts]\n",
      "[2024-09-03 14:53:51,462: INFO: common: created directory at: artifacts/data_ingestion]\n",
      "[2024-09-03 14:53:57,459: INFO: 4095441442: artifacts/data_ingestion/data.zip download! with following info: \n",
      "Connection: close\n",
      "Content-Length: 9802300\n",
      "Cache-Control: max-age=300\n",
      "Content-Security-Policy: default-src 'none'; style-src 'unsafe-inline'; sandbox\n",
      "Content-Type: application/zip\n",
      "ETag: \"35ecddc750a09a7099a4b1573c1d475a37fc6628327a7b76f44fb66b74fd5849\"\n",
      "Strict-Transport-Security: max-age=31536000\n",
      "X-Content-Type-Options: nosniff\n",
      "X-Frame-Options: deny\n",
      "X-XSS-Protection: 1; mode=block\n",
      "X-GitHub-Request-Id: 6D47:39CB17:4AF21:4E6C4:66D78570\n",
      "Accept-Ranges: bytes\n",
      "Date: Tue, 03 Sep 2024 21:53:53 GMT\n",
      "Via: 1.1 varnish\n",
      "X-Served-By: cache-lax-kwhp1940130-LAX\n",
      "X-Cache: MISS\n",
      "X-Cache-Hits: 0\n",
      "X-Timer: S1725400433.264907,VS0,VE720\n",
      "Vary: Authorization,Accept-Encoding,Origin\n",
      "Access-Control-Allow-Origin: *\n",
      "Cross-Origin-Resource-Policy: cross-origin\n",
      "X-Fastly-Request-ID: af067f56f13cb7442f2a96029c9a4255eefbe1c8\n",
      "Expires: Tue, 03 Sep 2024 21:58:53 GMT\n",
      "Source-Age: 0\n",
      "\n",
      "]\n"
     ]
    }
   ],
   "source": [
    "##For Modular code: Copy this part in stage_01_data_ingestion.py file created in pipeline folder\n",
    "#Update the pipeline\n",
    "try:\n",
    "    config = ConfigurationManager()\n",
    "    data_ingestion_config = config.get_data_ingestion_config()\n",
    "    data_ingestion = DataIngestion(config=data_ingestion_config)\n",
    "    data_ingestion.download_file()\n",
    "    data_ingestion.extract_zip_file()\n",
    "except Exception as e:\n",
    "    raise e"
   ]
  },
  {
   "cell_type": "code",
   "execution_count": null,
   "metadata": {},
   "outputs": [],
   "source": []
  }
 ],
 "metadata": {
  "kernelspec": {
   "display_name": "Python 3",
   "language": "python",
   "name": "python3"
  },
  "language_info": {
   "codemirror_mode": {
    "name": "ipython",
    "version": 3
   },
   "file_extension": ".py",
   "mimetype": "text/x-python",
   "name": "python",
   "nbconvert_exporter": "python",
   "pygments_lexer": "ipython3",
   "version": "3.8.19"
  }
 },
 "nbformat": 4,
 "nbformat_minor": 2
}
