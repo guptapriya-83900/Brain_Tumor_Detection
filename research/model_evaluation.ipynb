{
 "cells": [
  {
   "cell_type": "code",
   "execution_count": 1,
   "metadata": {},
   "outputs": [],
   "source": [
    "import os"
   ]
  },
  {
   "cell_type": "code",
   "execution_count": 2,
   "metadata": {},
   "outputs": [
    {
     "data": {
      "text/plain": [
       "'c:\\\\Users\\\\gupta\\\\Documents\\\\GitHub\\\\Brain_Tumor_Detection\\\\research'"
      ]
     },
     "execution_count": 2,
     "metadata": {},
     "output_type": "execute_result"
    }
   ],
   "source": [
    "%pwd"
   ]
  },
  {
   "cell_type": "code",
   "execution_count": 3,
   "metadata": {},
   "outputs": [],
   "source": [
    "os.chdir(\"../\")"
   ]
  },
  {
   "cell_type": "code",
   "execution_count": 4,
   "metadata": {},
   "outputs": [
    {
     "data": {
      "text/plain": [
       "'c:\\\\Users\\\\gupta\\\\Documents\\\\GitHub\\\\Brain_Tumor_Detection'"
      ]
     },
     "execution_count": 4,
     "metadata": {},
     "output_type": "execute_result"
    }
   ],
   "source": [
    "%pwd"
   ]
  },
  {
   "cell_type": "code",
   "execution_count": 5,
   "metadata": {},
   "outputs": [],
   "source": [
    "import tensorflow as tf"
   ]
  },
  {
   "cell_type": "code",
   "execution_count": 13,
   "metadata": {},
   "outputs": [],
   "source": [
    "model = tf.keras.models.load_model(\"artifacts/training/model.h5\")"
   ]
  },
  {
   "cell_type": "code",
   "execution_count": 6,
   "metadata": {},
   "outputs": [],
   "source": [
    "from dataclasses import dataclass\n",
    "from pathlib import Path\n",
    "\n",
    "\n",
    "@dataclass(frozen=True)\n",
    "class EvaluationConfig:\n",
    "    path_of_model: Path\n",
    "    training_data: Path\n",
    "    all_params: dict\n",
    "    params_image_size: list\n",
    "    params_batch_size: int"
   ]
  },
  {
   "cell_type": "code",
   "execution_count": 8,
   "metadata": {},
   "outputs": [],
   "source": [
    "from CNN_Classifier.constants import *\n",
    "from CNN_Classifier.utils.common import read_yaml, create_directories, save_json"
   ]
  },
  {
   "cell_type": "code",
   "execution_count": 9,
   "metadata": {},
   "outputs": [],
   "source": [
    "class ConfigurationManager:\n",
    "    def __init__(\n",
    "        self, \n",
    "        config_filepath = CONFIG_FILE_PATH,\n",
    "        params_filepath = PARAMS_FILE_PATH):\n",
    "        self.config = read_yaml(config_filepath)\n",
    "        self.params = read_yaml(params_filepath)\n",
    "        create_directories([self.config.artifacts_root])\n",
    "\n",
    "    \n",
    "    def get_validation_config(self) -> EvaluationConfig:\n",
    "        eval_config = EvaluationConfig(\n",
    "            path_of_model=\"artifacts/training/model.h5\",\n",
    "            training_data=\"artifacts/data_ingestion/Brain_Tumor_Dataset\",\n",
    "            all_params=self.params,\n",
    "            params_image_size=self.params.input_shape,\n",
    "            params_batch_size=self.params.batch_size\n",
    "        )\n",
    "        return eval_config\n",
    "\n",
    "\n"
   ]
  },
  {
   "cell_type": "code",
   "execution_count": 10,
   "metadata": {},
   "outputs": [],
   "source": [
    "from urllib.parse import urlparse"
   ]
  },
  {
   "cell_type": "code",
   "execution_count": 11,
   "metadata": {},
   "outputs": [],
   "source": [
    "class Evaluation:\n",
    "    def __init__(self, config: EvaluationConfig):\n",
    "        self.config = config\n",
    "\n",
    "    \n",
    "    def _valid_generator(self):\n",
    "\n",
    "        datagenerator_kwargs = dict(\n",
    "            rescale = 1./255,\n",
    "            validation_split=0.20\n",
    "        )\n",
    "\n",
    "        dataflow_kwargs = dict(\n",
    "            target_size=self.config.params_image_size[:-1],\n",
    "            batch_size=self.config.params_batch_size,\n",
    "            interpolation=\"bilinear\"\n",
    "        )\n",
    "\n",
    "        valid_datagenerator = tf.keras.preprocessing.image.ImageDataGenerator(\n",
    "            **datagenerator_kwargs\n",
    "        )\n",
    "\n",
    "        self.valid_generator = valid_datagenerator.flow_from_directory(\n",
    "            directory=self.config.training_data,\n",
    "            subset=\"validation\",\n",
    "            color_mode=\"grayscale\",   \n",
    "            shuffle=False,\n",
    "            **dataflow_kwargs\n",
    "        )\n",
    "\n",
    "    \n",
    "    @staticmethod\n",
    "    def load_model(path: Path) -> tf.keras.Model:\n",
    "        return tf.keras.models.load_model(path)\n",
    "    \n",
    "\n",
    "    def evaluation(self):\n",
    "        self.model = self.load_model(self.config.path_of_model)\n",
    "        self._valid_generator()\n",
    "        self.score = model.evaluate(self.valid_generator)\n",
    "\n",
    "    \n",
    "    def save_score(self):\n",
    "        scores = {\"loss\": self.score[0], \"accuracy\": self.score[1]}\n",
    "        save_json(path=Path(\"scores.json\"), data=scores)\n",
    "\n",
    "    "
   ]
  },
  {
   "cell_type": "code",
   "execution_count": 14,
   "metadata": {},
   "outputs": [
    {
     "name": "stdout",
     "output_type": "stream",
     "text": [
      "[2024-09-13 15:58:00,118: INFO: common: yaml file: config\\config.yaml loaded successfully]\n",
      "[2024-09-13 15:58:00,123: INFO: common: yaml file: params.yaml loaded successfully]\n",
      "[2024-09-13 15:58:00,124: INFO: common: created directory at: artifacts]\n",
      "Found 175 images belonging to 2 classes.\n"
     ]
    },
    {
     "ename": "InvalidArgumentError",
     "evalue": "Graph execution error:\n\nDetected at node 'model_1/normalization/sub' defined at (most recent call last):\n    File \"c:\\Users\\gupta\\Documents\\GitHub\\Brain_Tumor_Detection\\cnn_venv\\lib\\runpy.py\", line 194, in _run_module_as_main\n      return _run_code(code, main_globals, None,\n    File \"c:\\Users\\gupta\\Documents\\GitHub\\Brain_Tumor_Detection\\cnn_venv\\lib\\runpy.py\", line 87, in _run_code\n      exec(code, run_globals)\n    File \"c:\\Users\\gupta\\Documents\\GitHub\\Brain_Tumor_Detection\\cnn_venv\\lib\\site-packages\\ipykernel_launcher.py\", line 18, in <module>\n      app.launch_new_instance()\n    File \"c:\\Users\\gupta\\Documents\\GitHub\\Brain_Tumor_Detection\\cnn_venv\\lib\\site-packages\\traitlets\\config\\application.py\", line 1075, in launch_instance\n      app.start()\n    File \"c:\\Users\\gupta\\Documents\\GitHub\\Brain_Tumor_Detection\\cnn_venv\\lib\\site-packages\\ipykernel\\kernelapp.py\", line 739, in start\n      self.io_loop.start()\n    File \"c:\\Users\\gupta\\Documents\\GitHub\\Brain_Tumor_Detection\\cnn_venv\\lib\\site-packages\\tornado\\platform\\asyncio.py\", line 205, in start\n      self.asyncio_loop.run_forever()\n    File \"c:\\Users\\gupta\\Documents\\GitHub\\Brain_Tumor_Detection\\cnn_venv\\lib\\asyncio\\base_events.py\", line 570, in run_forever\n      self._run_once()\n    File \"c:\\Users\\gupta\\Documents\\GitHub\\Brain_Tumor_Detection\\cnn_venv\\lib\\asyncio\\base_events.py\", line 1859, in _run_once\n      handle._run()\n    File \"c:\\Users\\gupta\\Documents\\GitHub\\Brain_Tumor_Detection\\cnn_venv\\lib\\asyncio\\events.py\", line 81, in _run\n      self._context.run(self._callback, *self._args)\n    File \"c:\\Users\\gupta\\Documents\\GitHub\\Brain_Tumor_Detection\\cnn_venv\\lib\\site-packages\\ipykernel\\kernelbase.py\", line 545, in dispatch_queue\n      await self.process_one()\n    File \"c:\\Users\\gupta\\Documents\\GitHub\\Brain_Tumor_Detection\\cnn_venv\\lib\\site-packages\\ipykernel\\kernelbase.py\", line 534, in process_one\n      await dispatch(*args)\n    File \"c:\\Users\\gupta\\Documents\\GitHub\\Brain_Tumor_Detection\\cnn_venv\\lib\\site-packages\\ipykernel\\kernelbase.py\", line 437, in dispatch_shell\n      await result\n    File \"c:\\Users\\gupta\\Documents\\GitHub\\Brain_Tumor_Detection\\cnn_venv\\lib\\site-packages\\ipykernel\\ipkernel.py\", line 362, in execute_request\n      await super().execute_request(stream, ident, parent)\n    File \"c:\\Users\\gupta\\Documents\\GitHub\\Brain_Tumor_Detection\\cnn_venv\\lib\\site-packages\\ipykernel\\kernelbase.py\", line 778, in execute_request\n      reply_content = await reply_content\n    File \"c:\\Users\\gupta\\Documents\\GitHub\\Brain_Tumor_Detection\\cnn_venv\\lib\\site-packages\\ipykernel\\ipkernel.py\", line 449, in do_execute\n      res = shell.run_cell(\n    File \"c:\\Users\\gupta\\Documents\\GitHub\\Brain_Tumor_Detection\\cnn_venv\\lib\\site-packages\\ipykernel\\zmqshell.py\", line 549, in run_cell\n      return super().run_cell(*args, **kwargs)\n    File \"c:\\Users\\gupta\\Documents\\GitHub\\Brain_Tumor_Detection\\cnn_venv\\lib\\site-packages\\IPython\\core\\interactiveshell.py\", line 3009, in run_cell\n      result = self._run_cell(\n    File \"c:\\Users\\gupta\\Documents\\GitHub\\Brain_Tumor_Detection\\cnn_venv\\lib\\site-packages\\IPython\\core\\interactiveshell.py\", line 3064, in _run_cell\n      result = runner(coro)\n    File \"c:\\Users\\gupta\\Documents\\GitHub\\Brain_Tumor_Detection\\cnn_venv\\lib\\site-packages\\IPython\\core\\async_helpers.py\", line 129, in _pseudo_sync_runner\n      coro.send(None)\n    File \"c:\\Users\\gupta\\Documents\\GitHub\\Brain_Tumor_Detection\\cnn_venv\\lib\\site-packages\\IPython\\core\\interactiveshell.py\", line 3269, in run_cell_async\n      has_raised = await self.run_ast_nodes(code_ast.body, cell_name,\n    File \"c:\\Users\\gupta\\Documents\\GitHub\\Brain_Tumor_Detection\\cnn_venv\\lib\\site-packages\\IPython\\core\\interactiveshell.py\", line 3448, in run_ast_nodes\n      if await self.run_code(code, result, async_=asy):\n    File \"c:\\Users\\gupta\\Documents\\GitHub\\Brain_Tumor_Detection\\cnn_venv\\lib\\site-packages\\IPython\\core\\interactiveshell.py\", line 3508, in run_code\n      exec(code_obj, self.user_global_ns, self.user_ns)\n    File \"C:\\Users\\gupta\\AppData\\Local\\Temp\\ipykernel_11100\\1843749252.py\", line 5, in <module>\n      evaluation.evaluation()\n    File \"C:\\Users\\gupta\\AppData\\Local\\Temp\\ipykernel_11100\\1216964353.py\", line 39, in evaluation\n      self.score = model.evaluate(self.valid_generator)\n    File \"c:\\Users\\gupta\\Documents\\GitHub\\Brain_Tumor_Detection\\cnn_venv\\lib\\site-packages\\keras\\src\\utils\\traceback_utils.py\", line 65, in error_handler\n      return fn(*args, **kwargs)\n    File \"c:\\Users\\gupta\\Documents\\GitHub\\Brain_Tumor_Detection\\cnn_venv\\lib\\site-packages\\keras\\src\\engine\\training.py\", line 2200, in evaluate\n      logs = test_function_runner.run_step(\n    File \"c:\\Users\\gupta\\Documents\\GitHub\\Brain_Tumor_Detection\\cnn_venv\\lib\\site-packages\\keras\\src\\engine\\training.py\", line 4000, in run_step\n      tmp_logs = self._function(dataset_or_iterator)\n    File \"c:\\Users\\gupta\\Documents\\GitHub\\Brain_Tumor_Detection\\cnn_venv\\lib\\site-packages\\keras\\src\\engine\\training.py\", line 1972, in test_function\n      return step_function(self, iterator)\n    File \"c:\\Users\\gupta\\Documents\\GitHub\\Brain_Tumor_Detection\\cnn_venv\\lib\\site-packages\\keras\\src\\engine\\training.py\", line 1956, in step_function\n      outputs = model.distribute_strategy.run(run_step, args=(data,))\n    File \"c:\\Users\\gupta\\Documents\\GitHub\\Brain_Tumor_Detection\\cnn_venv\\lib\\site-packages\\keras\\src\\engine\\training.py\", line 1944, in run_step\n      outputs = model.test_step(data)\n    File \"c:\\Users\\gupta\\Documents\\GitHub\\Brain_Tumor_Detection\\cnn_venv\\lib\\site-packages\\keras\\src\\engine\\training.py\", line 1850, in test_step\n      y_pred = self(x, training=False)\n    File \"c:\\Users\\gupta\\Documents\\GitHub\\Brain_Tumor_Detection\\cnn_venv\\lib\\site-packages\\keras\\src\\utils\\traceback_utils.py\", line 65, in error_handler\n      return fn(*args, **kwargs)\n    File \"c:\\Users\\gupta\\Documents\\GitHub\\Brain_Tumor_Detection\\cnn_venv\\lib\\site-packages\\keras\\src\\engine\\training.py\", line 569, in __call__\n      return super().__call__(*args, **kwargs)\n    File \"c:\\Users\\gupta\\Documents\\GitHub\\Brain_Tumor_Detection\\cnn_venv\\lib\\site-packages\\keras\\src\\utils\\traceback_utils.py\", line 65, in error_handler\n      return fn(*args, **kwargs)\n    File \"c:\\Users\\gupta\\Documents\\GitHub\\Brain_Tumor_Detection\\cnn_venv\\lib\\site-packages\\keras\\src\\engine\\base_layer.py\", line 1150, in __call__\n      outputs = call_fn(inputs, *args, **kwargs)\n    File \"c:\\Users\\gupta\\Documents\\GitHub\\Brain_Tumor_Detection\\cnn_venv\\lib\\site-packages\\keras\\src\\utils\\traceback_utils.py\", line 96, in error_handler\n      return fn(*args, **kwargs)\n    File \"c:\\Users\\gupta\\Documents\\GitHub\\Brain_Tumor_Detection\\cnn_venv\\lib\\site-packages\\keras\\src\\engine\\functional.py\", line 512, in call\n      return self._run_internal_graph(inputs, training=training, mask=mask)\n    File \"c:\\Users\\gupta\\Documents\\GitHub\\Brain_Tumor_Detection\\cnn_venv\\lib\\site-packages\\keras\\src\\engine\\functional.py\", line 669, in _run_internal_graph\n      outputs = node.layer(*args, **kwargs)\n    File \"c:\\Users\\gupta\\Documents\\GitHub\\Brain_Tumor_Detection\\cnn_venv\\lib\\site-packages\\keras\\src\\utils\\traceback_utils.py\", line 65, in error_handler\n      return fn(*args, **kwargs)\n    File \"c:\\Users\\gupta\\Documents\\GitHub\\Brain_Tumor_Detection\\cnn_venv\\lib\\site-packages\\keras\\src\\engine\\base_layer.py\", line 1150, in __call__\n      outputs = call_fn(inputs, *args, **kwargs)\n    File \"c:\\Users\\gupta\\Documents\\GitHub\\Brain_Tumor_Detection\\cnn_venv\\lib\\site-packages\\keras\\src\\utils\\traceback_utils.py\", line 96, in error_handler\n      return fn(*args, **kwargs)\n    File \"c:\\Users\\gupta\\Documents\\GitHub\\Brain_Tumor_Detection\\cnn_venv\\lib\\site-packages\\keras\\src\\layers\\preprocessing\\normalization.py\", line 362, in call\n      return (inputs - self.mean) / tf.maximum(\nNode: 'model_1/normalization/sub'\nIncompatible shapes: [32,300,300,9] vs. [1,1,1,3]\n\t [[{{node model_1/normalization/sub}}]] [Op:__inference_test_function_26007]",
     "output_type": "error",
     "traceback": [
      "\u001b[1;31m---------------------------------------------------------------------------\u001b[0m",
      "\u001b[1;31mInvalidArgumentError\u001b[0m                      Traceback (most recent call last)",
      "Cell \u001b[1;32mIn[14], line 9\u001b[0m\n\u001b[0;32m      6\u001b[0m     evaluation\u001b[38;5;241m.\u001b[39msave_score()\n\u001b[0;32m      8\u001b[0m \u001b[38;5;28;01mexcept\u001b[39;00m \u001b[38;5;167;01mException\u001b[39;00m \u001b[38;5;28;01mas\u001b[39;00m e:\n\u001b[1;32m----> 9\u001b[0m    \u001b[38;5;28;01mraise\u001b[39;00m e\n",
      "Cell \u001b[1;32mIn[14], line 5\u001b[0m\n\u001b[0;32m      3\u001b[0m     val_config \u001b[38;5;241m=\u001b[39m config\u001b[38;5;241m.\u001b[39mget_validation_config()\n\u001b[0;32m      4\u001b[0m     evaluation \u001b[38;5;241m=\u001b[39m Evaluation(val_config)\n\u001b[1;32m----> 5\u001b[0m     \u001b[43mevaluation\u001b[49m\u001b[38;5;241;43m.\u001b[39;49m\u001b[43mevaluation\u001b[49m\u001b[43m(\u001b[49m\u001b[43m)\u001b[49m\n\u001b[0;32m      6\u001b[0m     evaluation\u001b[38;5;241m.\u001b[39msave_score()\n\u001b[0;32m      8\u001b[0m \u001b[38;5;28;01mexcept\u001b[39;00m \u001b[38;5;167;01mException\u001b[39;00m \u001b[38;5;28;01mas\u001b[39;00m e:\n",
      "Cell \u001b[1;32mIn[11], line 39\u001b[0m, in \u001b[0;36mEvaluation.evaluation\u001b[1;34m(self)\u001b[0m\n\u001b[0;32m     37\u001b[0m \u001b[38;5;28mself\u001b[39m\u001b[38;5;241m.\u001b[39mmodel \u001b[38;5;241m=\u001b[39m \u001b[38;5;28mself\u001b[39m\u001b[38;5;241m.\u001b[39mload_model(\u001b[38;5;28mself\u001b[39m\u001b[38;5;241m.\u001b[39mconfig\u001b[38;5;241m.\u001b[39mpath_of_model)\n\u001b[0;32m     38\u001b[0m \u001b[38;5;28mself\u001b[39m\u001b[38;5;241m.\u001b[39m_valid_generator()\n\u001b[1;32m---> 39\u001b[0m \u001b[38;5;28mself\u001b[39m\u001b[38;5;241m.\u001b[39mscore \u001b[38;5;241m=\u001b[39m \u001b[43mmodel\u001b[49m\u001b[38;5;241;43m.\u001b[39;49m\u001b[43mevaluate\u001b[49m\u001b[43m(\u001b[49m\u001b[38;5;28;43mself\u001b[39;49m\u001b[38;5;241;43m.\u001b[39;49m\u001b[43mvalid_generator\u001b[49m\u001b[43m)\u001b[49m\n",
      "File \u001b[1;32mc:\\Users\\gupta\\Documents\\GitHub\\Brain_Tumor_Detection\\cnn_venv\\lib\\site-packages\\keras\\src\\utils\\traceback_utils.py:70\u001b[0m, in \u001b[0;36mfilter_traceback.<locals>.error_handler\u001b[1;34m(*args, **kwargs)\u001b[0m\n\u001b[0;32m     67\u001b[0m     filtered_tb \u001b[38;5;241m=\u001b[39m _process_traceback_frames(e\u001b[38;5;241m.\u001b[39m__traceback__)\n\u001b[0;32m     68\u001b[0m     \u001b[38;5;66;03m# To get the full stack trace, call:\u001b[39;00m\n\u001b[0;32m     69\u001b[0m     \u001b[38;5;66;03m# `tf.debugging.disable_traceback_filtering()`\u001b[39;00m\n\u001b[1;32m---> 70\u001b[0m     \u001b[38;5;28;01mraise\u001b[39;00m e\u001b[38;5;241m.\u001b[39mwith_traceback(filtered_tb) \u001b[38;5;28;01mfrom\u001b[39;00m \u001b[38;5;28;01mNone\u001b[39;00m\n\u001b[0;32m     71\u001b[0m \u001b[38;5;28;01mfinally\u001b[39;00m:\n\u001b[0;32m     72\u001b[0m     \u001b[38;5;28;01mdel\u001b[39;00m filtered_tb\n",
      "File \u001b[1;32mc:\\Users\\gupta\\Documents\\GitHub\\Brain_Tumor_Detection\\cnn_venv\\lib\\site-packages\\tensorflow\\python\\eager\\execute.py:53\u001b[0m, in \u001b[0;36mquick_execute\u001b[1;34m(op_name, num_outputs, inputs, attrs, ctx, name)\u001b[0m\n\u001b[0;32m     51\u001b[0m \u001b[38;5;28;01mtry\u001b[39;00m:\n\u001b[0;32m     52\u001b[0m   ctx\u001b[38;5;241m.\u001b[39mensure_initialized()\n\u001b[1;32m---> 53\u001b[0m   tensors \u001b[38;5;241m=\u001b[39m pywrap_tfe\u001b[38;5;241m.\u001b[39mTFE_Py_Execute(ctx\u001b[38;5;241m.\u001b[39m_handle, device_name, op_name,\n\u001b[0;32m     54\u001b[0m                                       inputs, attrs, num_outputs)\n\u001b[0;32m     55\u001b[0m \u001b[38;5;28;01mexcept\u001b[39;00m core\u001b[38;5;241m.\u001b[39m_NotOkStatusException \u001b[38;5;28;01mas\u001b[39;00m e:\n\u001b[0;32m     56\u001b[0m   \u001b[38;5;28;01mif\u001b[39;00m name \u001b[38;5;129;01mis\u001b[39;00m \u001b[38;5;129;01mnot\u001b[39;00m \u001b[38;5;28;01mNone\u001b[39;00m:\n",
      "\u001b[1;31mInvalidArgumentError\u001b[0m: Graph execution error:\n\nDetected at node 'model_1/normalization/sub' defined at (most recent call last):\n    File \"c:\\Users\\gupta\\Documents\\GitHub\\Brain_Tumor_Detection\\cnn_venv\\lib\\runpy.py\", line 194, in _run_module_as_main\n      return _run_code(code, main_globals, None,\n    File \"c:\\Users\\gupta\\Documents\\GitHub\\Brain_Tumor_Detection\\cnn_venv\\lib\\runpy.py\", line 87, in _run_code\n      exec(code, run_globals)\n    File \"c:\\Users\\gupta\\Documents\\GitHub\\Brain_Tumor_Detection\\cnn_venv\\lib\\site-packages\\ipykernel_launcher.py\", line 18, in <module>\n      app.launch_new_instance()\n    File \"c:\\Users\\gupta\\Documents\\GitHub\\Brain_Tumor_Detection\\cnn_venv\\lib\\site-packages\\traitlets\\config\\application.py\", line 1075, in launch_instance\n      app.start()\n    File \"c:\\Users\\gupta\\Documents\\GitHub\\Brain_Tumor_Detection\\cnn_venv\\lib\\site-packages\\ipykernel\\kernelapp.py\", line 739, in start\n      self.io_loop.start()\n    File \"c:\\Users\\gupta\\Documents\\GitHub\\Brain_Tumor_Detection\\cnn_venv\\lib\\site-packages\\tornado\\platform\\asyncio.py\", line 205, in start\n      self.asyncio_loop.run_forever()\n    File \"c:\\Users\\gupta\\Documents\\GitHub\\Brain_Tumor_Detection\\cnn_venv\\lib\\asyncio\\base_events.py\", line 570, in run_forever\n      self._run_once()\n    File \"c:\\Users\\gupta\\Documents\\GitHub\\Brain_Tumor_Detection\\cnn_venv\\lib\\asyncio\\base_events.py\", line 1859, in _run_once\n      handle._run()\n    File \"c:\\Users\\gupta\\Documents\\GitHub\\Brain_Tumor_Detection\\cnn_venv\\lib\\asyncio\\events.py\", line 81, in _run\n      self._context.run(self._callback, *self._args)\n    File \"c:\\Users\\gupta\\Documents\\GitHub\\Brain_Tumor_Detection\\cnn_venv\\lib\\site-packages\\ipykernel\\kernelbase.py\", line 545, in dispatch_queue\n      await self.process_one()\n    File \"c:\\Users\\gupta\\Documents\\GitHub\\Brain_Tumor_Detection\\cnn_venv\\lib\\site-packages\\ipykernel\\kernelbase.py\", line 534, in process_one\n      await dispatch(*args)\n    File \"c:\\Users\\gupta\\Documents\\GitHub\\Brain_Tumor_Detection\\cnn_venv\\lib\\site-packages\\ipykernel\\kernelbase.py\", line 437, in dispatch_shell\n      await result\n    File \"c:\\Users\\gupta\\Documents\\GitHub\\Brain_Tumor_Detection\\cnn_venv\\lib\\site-packages\\ipykernel\\ipkernel.py\", line 362, in execute_request\n      await super().execute_request(stream, ident, parent)\n    File \"c:\\Users\\gupta\\Documents\\GitHub\\Brain_Tumor_Detection\\cnn_venv\\lib\\site-packages\\ipykernel\\kernelbase.py\", line 778, in execute_request\n      reply_content = await reply_content\n    File \"c:\\Users\\gupta\\Documents\\GitHub\\Brain_Tumor_Detection\\cnn_venv\\lib\\site-packages\\ipykernel\\ipkernel.py\", line 449, in do_execute\n      res = shell.run_cell(\n    File \"c:\\Users\\gupta\\Documents\\GitHub\\Brain_Tumor_Detection\\cnn_venv\\lib\\site-packages\\ipykernel\\zmqshell.py\", line 549, in run_cell\n      return super().run_cell(*args, **kwargs)\n    File \"c:\\Users\\gupta\\Documents\\GitHub\\Brain_Tumor_Detection\\cnn_venv\\lib\\site-packages\\IPython\\core\\interactiveshell.py\", line 3009, in run_cell\n      result = self._run_cell(\n    File \"c:\\Users\\gupta\\Documents\\GitHub\\Brain_Tumor_Detection\\cnn_venv\\lib\\site-packages\\IPython\\core\\interactiveshell.py\", line 3064, in _run_cell\n      result = runner(coro)\n    File \"c:\\Users\\gupta\\Documents\\GitHub\\Brain_Tumor_Detection\\cnn_venv\\lib\\site-packages\\IPython\\core\\async_helpers.py\", line 129, in _pseudo_sync_runner\n      coro.send(None)\n    File \"c:\\Users\\gupta\\Documents\\GitHub\\Brain_Tumor_Detection\\cnn_venv\\lib\\site-packages\\IPython\\core\\interactiveshell.py\", line 3269, in run_cell_async\n      has_raised = await self.run_ast_nodes(code_ast.body, cell_name,\n    File \"c:\\Users\\gupta\\Documents\\GitHub\\Brain_Tumor_Detection\\cnn_venv\\lib\\site-packages\\IPython\\core\\interactiveshell.py\", line 3448, in run_ast_nodes\n      if await self.run_code(code, result, async_=asy):\n    File \"c:\\Users\\gupta\\Documents\\GitHub\\Brain_Tumor_Detection\\cnn_venv\\lib\\site-packages\\IPython\\core\\interactiveshell.py\", line 3508, in run_code\n      exec(code_obj, self.user_global_ns, self.user_ns)\n    File \"C:\\Users\\gupta\\AppData\\Local\\Temp\\ipykernel_11100\\1843749252.py\", line 5, in <module>\n      evaluation.evaluation()\n    File \"C:\\Users\\gupta\\AppData\\Local\\Temp\\ipykernel_11100\\1216964353.py\", line 39, in evaluation\n      self.score = model.evaluate(self.valid_generator)\n    File \"c:\\Users\\gupta\\Documents\\GitHub\\Brain_Tumor_Detection\\cnn_venv\\lib\\site-packages\\keras\\src\\utils\\traceback_utils.py\", line 65, in error_handler\n      return fn(*args, **kwargs)\n    File \"c:\\Users\\gupta\\Documents\\GitHub\\Brain_Tumor_Detection\\cnn_venv\\lib\\site-packages\\keras\\src\\engine\\training.py\", line 2200, in evaluate\n      logs = test_function_runner.run_step(\n    File \"c:\\Users\\gupta\\Documents\\GitHub\\Brain_Tumor_Detection\\cnn_venv\\lib\\site-packages\\keras\\src\\engine\\training.py\", line 4000, in run_step\n      tmp_logs = self._function(dataset_or_iterator)\n    File \"c:\\Users\\gupta\\Documents\\GitHub\\Brain_Tumor_Detection\\cnn_venv\\lib\\site-packages\\keras\\src\\engine\\training.py\", line 1972, in test_function\n      return step_function(self, iterator)\n    File \"c:\\Users\\gupta\\Documents\\GitHub\\Brain_Tumor_Detection\\cnn_venv\\lib\\site-packages\\keras\\src\\engine\\training.py\", line 1956, in step_function\n      outputs = model.distribute_strategy.run(run_step, args=(data,))\n    File \"c:\\Users\\gupta\\Documents\\GitHub\\Brain_Tumor_Detection\\cnn_venv\\lib\\site-packages\\keras\\src\\engine\\training.py\", line 1944, in run_step\n      outputs = model.test_step(data)\n    File \"c:\\Users\\gupta\\Documents\\GitHub\\Brain_Tumor_Detection\\cnn_venv\\lib\\site-packages\\keras\\src\\engine\\training.py\", line 1850, in test_step\n      y_pred = self(x, training=False)\n    File \"c:\\Users\\gupta\\Documents\\GitHub\\Brain_Tumor_Detection\\cnn_venv\\lib\\site-packages\\keras\\src\\utils\\traceback_utils.py\", line 65, in error_handler\n      return fn(*args, **kwargs)\n    File \"c:\\Users\\gupta\\Documents\\GitHub\\Brain_Tumor_Detection\\cnn_venv\\lib\\site-packages\\keras\\src\\engine\\training.py\", line 569, in __call__\n      return super().__call__(*args, **kwargs)\n    File \"c:\\Users\\gupta\\Documents\\GitHub\\Brain_Tumor_Detection\\cnn_venv\\lib\\site-packages\\keras\\src\\utils\\traceback_utils.py\", line 65, in error_handler\n      return fn(*args, **kwargs)\n    File \"c:\\Users\\gupta\\Documents\\GitHub\\Brain_Tumor_Detection\\cnn_venv\\lib\\site-packages\\keras\\src\\engine\\base_layer.py\", line 1150, in __call__\n      outputs = call_fn(inputs, *args, **kwargs)\n    File \"c:\\Users\\gupta\\Documents\\GitHub\\Brain_Tumor_Detection\\cnn_venv\\lib\\site-packages\\keras\\src\\utils\\traceback_utils.py\", line 96, in error_handler\n      return fn(*args, **kwargs)\n    File \"c:\\Users\\gupta\\Documents\\GitHub\\Brain_Tumor_Detection\\cnn_venv\\lib\\site-packages\\keras\\src\\engine\\functional.py\", line 512, in call\n      return self._run_internal_graph(inputs, training=training, mask=mask)\n    File \"c:\\Users\\gupta\\Documents\\GitHub\\Brain_Tumor_Detection\\cnn_venv\\lib\\site-packages\\keras\\src\\engine\\functional.py\", line 669, in _run_internal_graph\n      outputs = node.layer(*args, **kwargs)\n    File \"c:\\Users\\gupta\\Documents\\GitHub\\Brain_Tumor_Detection\\cnn_venv\\lib\\site-packages\\keras\\src\\utils\\traceback_utils.py\", line 65, in error_handler\n      return fn(*args, **kwargs)\n    File \"c:\\Users\\gupta\\Documents\\GitHub\\Brain_Tumor_Detection\\cnn_venv\\lib\\site-packages\\keras\\src\\engine\\base_layer.py\", line 1150, in __call__\n      outputs = call_fn(inputs, *args, **kwargs)\n    File \"c:\\Users\\gupta\\Documents\\GitHub\\Brain_Tumor_Detection\\cnn_venv\\lib\\site-packages\\keras\\src\\utils\\traceback_utils.py\", line 96, in error_handler\n      return fn(*args, **kwargs)\n    File \"c:\\Users\\gupta\\Documents\\GitHub\\Brain_Tumor_Detection\\cnn_venv\\lib\\site-packages\\keras\\src\\layers\\preprocessing\\normalization.py\", line 362, in call\n      return (inputs - self.mean) / tf.maximum(\nNode: 'model_1/normalization/sub'\nIncompatible shapes: [32,300,300,9] vs. [1,1,1,3]\n\t [[{{node model_1/normalization/sub}}]] [Op:__inference_test_function_26007]"
     ]
    }
   ],
   "source": [
    "try:\n",
    "    config = ConfigurationManager()\n",
    "    val_config = config.get_validation_config()\n",
    "    evaluation = Evaluation(val_config)\n",
    "    evaluation.evaluation()\n",
    "    evaluation.save_score()\n",
    "\n",
    "except Exception as e:\n",
    "   raise e"
   ]
  }
 ],
 "metadata": {
  "kernelspec": {
   "display_name": "Python 3",
   "language": "python",
   "name": "python3"
  },
  "language_info": {
   "codemirror_mode": {
    "name": "ipython",
    "version": 3
   },
   "file_extension": ".py",
   "mimetype": "text/x-python",
   "name": "python",
   "nbconvert_exporter": "python",
   "pygments_lexer": "ipython3",
   "version": "3.8.19"
  }
 },
 "nbformat": 4,
 "nbformat_minor": 2
}
